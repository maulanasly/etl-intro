{
 "cells": [
  {
   "cell_type": "markdown",
   "metadata": {},
   "source": [
    "# Intro into Python\n",
    "1. Variables\n",
    "2. Data Types\n",
    "3. Operators\n",
    "4. Control Structures\n",
    "5. Functions\n",
    "6. Classes"
   ]
  },
  {
   "cell_type": "code",
   "execution_count": null,
   "metadata": {},
   "outputs": [],
   "source": [
    "### 1. Variables\n",
    "# -----------------------------\n",
    "# SECTION: VARIABLE BASICS\n",
    "# -----------------------------\n",
    "# Variables are used to store data values.\n",
    "# A variable is created the moment you first assign a value to it.\n",
    "# Variables don't need to be declared with any particular type and can change type after being set.\n",
    "\n",
    "# Example: Variable creation and assignment\n",
    "name = \"Alice\"  # String variable using double quotes\n",
    "age = 25        # Integer variable\n",
    "height = 5.7    # Float variable\n",
    "is_student = True  # Boolean variable\n",
    "\n",
    "# Variables are case-sensitive\n",
    "Name = \"Bob\"    # This is a different variable from 'name'\n",
    "\n",
    "# Variable naming conventions:\n",
    "# - Can contain letters, numbers, and underscores\n",
    "# - Cannot start with a number\n",
    "# - Should be descriptive and lowercase with underscores\n",
    "user_name = \"charlie123\"  # Good variable name\n",
    "income_2023 = 75000      # Numbers allowed, but not at start\n",
    "\n",
    "# Constants are typically written in uppercase\n",
    "PI = 3.14159\n",
    "MAX_SIZE = 100\n",
    "\n",
    "# Variables can change type\n",
    "x = 10          # x is an integer\n",
    "print(f\"x is {x}, type: {type(x)}\")\n",
    "x = \"hello\"     # x is now a string\n",
    "print(f\"x is {x}, type: {type(x)}\")\n",
    "\n",
    "# Multiple assignment\n",
    "a, b, c = 1, 2.5, \"three\"\n",
    "print(f\"a = {a}, b = {b}, c = {c}\")"
   ]
  },
  {
   "cell_type": "code",
   "execution_count": null,
   "metadata": {},
   "outputs": [],
   "source": [
    "# Interactive Exercise: Try changing variable types\n",
    "# Change the value of 'test_var' and see how its type changes\n",
    "test_var = 42# \n",
    "# \n",
    "# \n",
    "# test_var = \"Your new value here\""
   ]
  },
  {
   "cell_type": "code",
   "execution_count": null,
   "metadata": {},
   "outputs": [],
   "source": [
    "# Practice: Create your own variables\n",
    "# 1. Create a variable called 'favorite_food' with your favorite food as a string\n",
    "# 2. Create a variable called 'meals_per_day' as an integer\n",
    "# 3. Create a variable called 'average_cost' as a float\n",
    "# Write your code below:\n",
    "\n",
    "# Check your work:\n",
    "# print(f\"My favorite food is {favorite_food}\")\n",
    "# print(f\"I eat {meals_per_day} meals per day\")\n",
    "# print(f\"Each meal costs about ${average_cost:.2f}\")"
   ]
  },
  {
   "cell_type": "code",
   "execution_count": null,
   "metadata": {},
   "outputs": [],
   "source": [
    "# install matplotlib and numpy\n",
    "!pip install matplotlib numpy"
   ]
  },
  {
   "cell_type": "code",
   "execution_count": null,
   "metadata": {},
   "outputs": [],
   "source": [
    "# Visualize variable types\n",
    "import matplotlib.pyplot as plt\n",
    "import numpy as np\n",
    "\n",
    "# Data\n",
    "types = ['int', 'float', 'str', 'bool', 'list']\n",
    "examples = ['42', '3.14', '\"hello\"', 'True', '[1,2,3]']\n",
    "\n",
    "# Create simple visualization\n",
    "plt.figure(figsize=(10, 5))\n",
    "y_pos = np.arange(len(types))\n",
    "plt.barh(y_pos, [1]*len(types), color=['skyblue', 'lightgreen', 'salmon', 'gold', 'plum'])\n",
    "plt.yticks(y_pos, types)# \n",
    "# \n",
    "# \n",
    "for i, example in enumerate(examples):\n",
    "    plt.text(0.5, i, example, ha='center', va='center')\n",
    "plt.title('Python Variable Types')\n",
    "plt.xlabel('Examples')\n",
    "plt.tick_params(left=False)\n",
    "plt.box(False)\n",
    "plt.show()"
   ]
  },
  {
   "cell_type": "code",
   "execution_count": null,
   "metadata": {},
   "outputs": [],
   "source": [
    "# Real-world application: Simple customer info system\n",
    "customer_name = \"Jane Smith\"\n",
    "customer_balance = 125.50\n",
    "is_premium_member = True\n",
    "purchase_history = [\"Laptop\", \"Headphones\", \"Mouse\"]\n",
    "\n",
    "# Display customer information\n",
    "print(f\"Customer: {customer_name}\")# "
   ]
  },
  {
   "cell_type": "markdown",
   "metadata": {},
   "source": [
    "### 2. Data Types\n",
    "Python has several built-in data types:\n",
    "- Text Type: str\n",
    "- Numeric Types: int, float, complex\n",
    "- Sequence Types: list, tuple, range\n",
    "- Mapping Type: dict\n",
    "- Set Types: set, frozenset\n",
    "- Boolean Type: bool\n",
    "- Binary Types: bytes, bytearray, memoryview\\"
   ]
  },
  {
   "cell_type": "code",
   "execution_count": null,
   "metadata": {},
   "outputs": [],
   "source": [
    "# Strings\n",
    "name = \"Alice\"\n",
    "print(name)     # Alice\n",
    "print(name[0])  # A\n",
    "print(name[1])  # l\n",
    "print(name[-1]) # e\n",
    "print(name[1:4]) # lic\n",
    "print(len(name))  # 5\n",
    "\n",
    "# String methods\n",
    "print(name.upper())   # ALICE\n",
    "print(name.lower())   # alice\n",
    "print(name.replace(\"A\", \"B\"))  # Blice\n",
    "print(name.split(\"l\"))         # ['A', 'ice']"
   ]
  },
  {
   "cell_type": "code",
   "execution_count": null,
   "metadata": {},
   "outputs": [],
   "source": [
    "# Getting the data type of a variable\n",
    "x = 5\n",
    "print(type(x))  # <class 'int'>\n",
    "\n",
    "# Casting data types\n",
    "x = str(3)      # x will be '3'\n",
    "y = int(\"5\")    # y will be 5\n",
    "z = float(3)    # z will be 3.0\n",
    "print(x, y, z)"
   ]
  },
  {
   "cell_type": "code",
   "execution_count": null,
   "metadata": {},
   "outputs": [],
   "source": [
    "# Numeric types\n",
    "x = 5\n",
    "y = 2.5\n",
    "z = 1j  # Complex number\n",
    "print(type(x))  # <class 'int'>\n",
    "print(type(y))  # <class 'float'>\n",
    "print(type(z))  # <class 'complex'>\n",
    "\n",
    "# Arithmetic operators\n",
    "a = 10\n",
    "b = 3\n",
    "print(a + b)  # 13\n",
    "print(a - b)  # 7\n",
    "print(a * b)  # 30\n",
    "print(a / b)  # 3.3333\n",
    "print(a // b) # 3 (floor division)"
   ]
  },
  {
   "cell_type": "code",
   "execution_count": null,
   "metadata": {},
   "outputs": [],
   "source": [
    "# Lists\n",
    "fruits = [\"apple\", \"banana\", \"cherry\"]\n",
    "print(fruits[0])  # apple\n",
    "print(fruits[1])  # banana\n",
    "print(fruits[-1]) # cherry\n",
    "print(fruits[1:3]) # ['banana', 'cherry']\n",
    "print(len(fruits))  # 3\n",
    "\n",
    "print(fruits)  # ['apple', 'banana', 'cherry', 'orange']# \n",
    "# \n",
    "# "
   ]
  },
  {
   "cell_type": "code",
   "execution_count": null,
   "metadata": {},
   "outputs": [],
   "source": [
    "# Tuples\n",
    "fruits = (\"apple\", \"banana\", \"cherry\")# \n",
    "\n",
    "print(fruits[0])  # apple\n",
    "print(fruits[1])  # banana\n",
    "print(fruits[-1]) # cherry\n",
    "print(fruits[1:3]) # ('banana', 'cherry')\n",
    "print(len(fruits))  # 3"
   ]
  },
  {
   "cell_type": "code",
   "execution_count": null,
   "metadata": {},
   "outputs": [],
   "source": [
    "# Dictionaries\n",
    "person = {\n",
    "    \"name\": \"Alice\",# \n",
    "# \n",
    "# \n",
    "\n",
    "# Dictionary methods\n",
    "person[\"city\"] = \"New York\"\n",
    "print(person)  # {'name': 'Alice', 'age': 25, 'is_student': True, 'city': 'New York'}\n",
    "person.pop(\"age\")\n",
    "print(person)  # {'name': 'Alice', 'is_student': True, 'city': 'New York'}"
   ]
  },
  {
   "cell_type": "code",
   "execution_count": null,
   "metadata": {},
   "outputs": [],
   "source": [
    "# Sets (unordered, unindexed collection of unique elements) immutable\n",
    "fruits = {\"apple\", \"banana\", \"cherry\"}\n",
    "print(\"banana\" in fruits)  # True\n",
    "fruits.add(\"orange\")\n",
    "print(fruits)  # {'apple', 'banana', 'cherry', 'orange'}\n",
    "fruits.remove(\"banana\")\n",
    "print(fruits)  # {'apple', 'cherry', 'orange'}"
   ]
  },
  {
   "cell_type": "code",
   "execution_count": null,
   "metadata": {},
   "outputs": [],
   "source": [
    "# Booleans\n",
    "x = True\n",
    "y = False\n",
    "print(type(x))  # <class 'bool'># \n",
    "\n",
    "print(x and y)  # False\n",
    "print(x or y)   # True\n",
    "print(not x)    # False# \n",
    "# \n",
    "# "
   ]
  },
  {
   "cell_type": "markdown",
   "metadata": {},
   "source": [
    "##3. Operators\n",
    "Python has several types of operators:\n",
    "- Arithmetic operators: +, -, *, /, %, //, **\n",
    "- Comparison operators: ==, !=, >, <, >=, <=\n",
    "- Logical operators: and, or, not\n",
    "- Assignment operators: =, +=, -=, *=, /=, %=, //=, **=\n",
    "- Identity operators: is, is not\n",
    "- Membership operators: in, not in\n",
    "- Bitwise operators: &, |, ^, ~, <<, >>"
   ]
  },
  {
   "cell_type": "code",
   "execution_count": null,
   "metadata": {},
   "outputs": [],
   "source": [
    "# Arithmetic operators\n",
    "a = 10\n",
    "b = 3\n",
    "print(a + b)  # 13\n",
    "print(a - b)  # 7\n",
    "print(a * b)  # 30\n",
    "print(a / b)  # 3.3333\n",
    "print(a % b)  # 1 (remainder)\n",
    "print(a // b) # 3 (floor division)\n",
    "print(a ** b) # 1000 (a to the power of b)"
   ]
  },
  {
   "cell_type": "code",
   "execution_count": null,
   "metadata": {},
   "outputs": [],
   "source": [
    "# Comparison operators\n",
    "a = 10\n",
    "b = 3\n",
    "print(a == b)  # False\n",
    "print(a != b)  # True\n",
    "print(a > b)   # True\n",
    "print(a < b)   # False\n",
    "print(a >= b)  # True\n",
    "print(a <= b)  # False"
   ]
  },
  {
   "cell_type": "code",
   "execution_count": null,
   "metadata": {},
   "outputs": [],
   "source": [
    "# Logical operators\n",
    "x = True\n",
    "y = False\n",
    "print(x and y)  # False"
   ]
  },
  {
   "cell_type": "code",
   "execution_count": null,
   "metadata": {},
   "outputs": [],
   "source": [
    "# Assignment operators\n",
    "a = 10\n",
    "a += 5  # a = a + 5\n",
    "print(a)  # 15# \n",
    "# \n",
    "# "
   ]
  },
  {
   "cell_type": "code",
   "execution_count": null,
   "metadata": {},
   "outputs": [],
   "source": [
    "# Identity operators\n",
    "x = [\"apple\", \"banana\"]\n",
    "y = [\"apple\", \"banana\"]\n",
    "print(x is y)  # False\n",
    "print(x is not y)  # True"
   ]
  },
  {
   "cell_type": "code",
   "execution_count": null,
   "metadata": {},
   "outputs": [],
   "source": [
    "# Membership operators\n",
    "fruits = [\"apple\", \"banana\", \"cherry\"]\n",
    "print(\"banana\" in fruits)  # True\n",
    "print(\"orange\" not in fruits)  # True"
   ]
  },
  {
   "cell_type": "code",
   "execution_count": null,
   "metadata": {},
   "outputs": [],
   "source": [
    "# Bitwise operators\n",
    "a = 10\n",
    "b = 4\n",
    "print(a & b)  # 0 (bitwise AND)\n",
    "print(a | b)  # 14 (bitwise OR)\n",
    "print(a ^ b)  # 14 (bitwise XOR)\n",
    "print(~a)     # -11 (bitwise NOT)\n",
    "print(a << 1) # 20 (bitwise left shift)\n",
    "print(a >> 1) # 5 (bitwise right shift)\n",
    "\n"
   ]
  },
  {
   "cell_type": "markdown",
   "metadata": {},
   "source": [
    "### 4. Control Structures\n",
    "Python has several control structures:\n",
    "- If statement\n",
    "- For loop\n",
    "- While loop"
   ]
  },
  {
   "cell_type": "code",
   "execution_count": null,
   "metadata": {},
   "outputs": [],
   "source": [
    "# If statement\n",
    "age = 25\n",
    "if age < 18:\n",
    "    print(\"You are a minor\")\n",
    "elif age < 65:\n",
    "    print(\"You are an adult\")\n",
    "else:\n",
    "    print(\"You are a senior\")\n"
   ]
  },
  {
   "cell_type": "code",
   "execution_count": null,
   "metadata": {},
   "outputs": [],
   "source": [
    "# For loop\n",
    "fruits = [\"apple\", \"banana\", \"cherry\"]\n",
    "for fruit in fruits:\n",
    "    print(fruit)\n",
    "\n",
    "for i in range(5):\n",
    "    print(i)\n",
    "\n",
    "for i in range(2, 5):\n",
    "    print(i)\n",
    "\n",
    "for i in range(0, 10, 2):\n",
    "    print(i)"
   ]
  },
  {
   "cell_type": "code",
   "execution_count": null,
   "metadata": {},
   "outputs": [],
   "source": [
    "# While loop\n",
    "i = 0\n",
    "while i < 5:\n",
    "    print(i)\n",
    "    i += 1"
   ]
  }
 ],
 "metadata": {
  "kernelspec": {
   "display_name": ".venv",
   "language": "python",
   "name": "python3"
  },
  "language_info": {
   "codemirror_mode": {
    "name": "ipython",
    "version": 3
   },
   "file_extension": ".py",
   "mimetype": "text/x-python",
   "name": "python",
   "nbconvert_exporter": "python",
   "pygments_lexer": "ipython3",
   "version": "3.10.12"
  }
 },
 "nbformat": 4,
 "nbformat_minor": 2
}
